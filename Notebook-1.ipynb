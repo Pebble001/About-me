{
    "metadata": {
        "kernelspec": {
            "name": "SQL",
            "display_name": "SQL",
            "language": "sql"
        },
        "language_info": {
            "name": "sql",
            "version": ""
        }
    },
    "nbformat_minor": 2,
    "nbformat": 4,
    "cells": [
        {
            "cell_type": "code",
            "source": [
                "SELECT * from sales.SalesOrderHeader\n",
                "\n",
                "\n",
                "\n",
                "/*SELECT count(CustomerID) from Sales.SalesOrderHeader*/\n",
                "\n",
                "/*select MAX(OrderDate) from Sales.SalesOrderHeader*/\n",
                "\n",
                "--select CustomerID, DATEDIFF(MONTH, MAX(OrderDate),'2014-06-30') as f INTO #test2 from Sales.SalesOrderHeader\n",
                "group by CustomerID-- recency\n",
                "\n",
                "SELECT * from #test2\n",
                "\n",
                "/*select max (r) from #test2*/\n",
                "\n",
                " /* frequency*/\n",
                "\n",
                " select * from Sales.SalesOrderDetail\n",
                "\n",
                "\n",
                "\n",
                "\n",
                " /*SELECT count(SalesOrderID) as no_of_orders, SalesOrderID into #test3 from Sales.SalesOrderDetail\n",
                "GROUP BY SalesOrderID*/\n",
                "\n",
                "SELECT MAX(COUNT(SalesOrderID)) FROM Sales.SalesOrderDetail\n",
                "\n",
                "select distinct SalesOrderID from Sales.SalesOrderDetail\n",
                "\n",
                "--select max(no_of_orders) from #test3\n",
                "\n",
                "--select count(SalesOrderID) as count_orders,  sum_order into #test4 from Sales.SalesOrderDetail\n",
                "--GROUP BY LineTotal--\n",
                "\n",
                "--select * from #test4\n",
                "\n",
                "--select max(sum_order) from #test4--\n",
                "\n",
                "\n",
                "/*select a.CustomerID, \n",
                "\n",
                "DATEDIFF (MONTH, MAX(a.OrderDate),'2014-06-30') as Recency,\n",
                "\n",
                "CASE WHEN DATEDIFF(MONTH, MAX(a.OrderDate),'2014-06-30') between 0 and 6 then 'highrecency_customer'\n",
                "      WHEN DATEDIFF(MONTH, MAX(a.OrderDate),'2014-06-30') between 7 and 12 then 'goodrecency_customer'\n",
                "      WHEN DATEDIFF(MONTH, MAX(a.OrderDate),'2014-06-30') between 13 and 24 then 'fairrecency_customer'\n",
                "      WHEN DATEDIFF(MONTH, MAX(a.OrderDate),'2014-06-30')  > 24 THEN 'poorrecency_customer'\n",
                "      End as 'Recency_rating' ,\n",
                "count(a.SalesOrderID) as Frequency,\n",
                "CASE when count(a.SalesOrderID) between 1 and 5 then 'lowfrequency_customer'\n",
                "     when count(a.SalesOrderID) between  6 and 10 then 'fairfrequency_customer'\n",
                "     when count(a.SalesOrderID) between  11 and 15 then 'goodfrequency_customer'\n",
                "     when count(a.SalesOrderID) > 15 then 'highfrequency_customer'\n",
                "     End as 'Frequency_rating',\n",
                "\n",
                "sum(b.LineTotal) as Monetaryvalue,\n",
                "CASE WHEN sum(b.LineTotal) BETWEEN 1 and 1000 Then 'lowballer_customer'\n",
                "      When sum(b.LineTotal)  <=5000 THEN 'Fairballer_customer'\n",
                "      When sum(b.LineTotal) <=10000  then 'goodballer_customer'\n",
                "      When sum(b.LineTotal)  >10000 then 'highballer_customer'\n",
                " End as Monetary_Rating     \n",
                "      \n",
                "into #RFM      \n",
                "from sales.SalesOrderHeader a\n",
                "Inner JOIN Sales.SalesOrderDetail b\n",
                "\n",
                "on a.SalesOrderID = b.SalesOrderID\n",
                "\n",
                "GROUP BY a.CustomerID\n",
                "ORDER BY Monetaryvalue DESC*/\n",
                "\n",
                "SELECT * FROM #RFM\n",
                "ORDER BY MONETARYVALUE"
            ],
            "metadata": {
                "azdata_cell_guid": "c7bef2c5-7d7b-4f6f-b319-220256428690",
                "language": "sql"
            },
            "outputs": [],
            "execution_count": null
        },
        {
            "cell_type": "markdown",
            "source": [
                ""
            ],
            "metadata": {
                "language": "sql",
                "azdata_cell_guid": "8b5b98ff-c28a-46bb-9465-564c7641437a"
            }
        },
        {
            "cell_type": "markdown",
            "source": [
                "recency, frequency and monetary value"
            ],
            "metadata": {
                "azdata_cell_guid": "05baa89e-f887-4556-b7e0-2da546e1cb5f"
            }
        }
    ]
}